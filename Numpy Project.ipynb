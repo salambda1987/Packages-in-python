{
 "cells": [
  {
   "cell_type": "markdown",
   "metadata": {},
   "source": [
    "### Problem 1"
   ]
  },
  {
   "cell_type": "markdown",
   "metadata": {},
   "source": [
    "### 1.a"
   ]
  },
  {
   "cell_type": "markdown",
   "metadata": {},
   "source": [
    "Write a function dot_product to calculate the dot product of two 1 X n arrays, for emample:\n",
    "\n",
    "a = array([1, 2, 3, 4])<br>\n",
    "b = array([2, 3, 4, 5])\n",
    "\n",
    "1 X 2 = 2<br>\n",
    "2 X 3 = 6<br>\n",
    "3 X 4 = 12<br>\n",
    "4 X 5 = 20\n",
    "\n",
    "2 + 6 + 12 + 20 = 40\n",
    "\n",
    "dot_product (a, b) = 40"
   ]
  },
  {
   "cell_type": "markdown",
   "metadata": {},
   "source": [
    "### Answer"
   ]
  },
  {
   "cell_type": "code",
   "execution_count": 9,
   "metadata": {
    "collapsed": true
   },
   "outputs": [],
   "source": [
    "def dot_product(a, b):\n",
    "    return np.sum(a*b)"
   ]
  },
  {
   "cell_type": "markdown",
   "metadata": {},
   "source": [
    "### Test"
   ]
  },
  {
   "cell_type": "code",
   "execution_count": 26,
   "metadata": {},
   "outputs": [
    {
     "data": {
      "text/plain": [
       "40"
      ]
     },
     "execution_count": 26,
     "metadata": {},
     "output_type": "execute_result"
    }
   ],
   "source": [
    "# Firts of all lets import numpy \n",
    "import numpy as np\n",
    "\n",
    "# Create two arrays using numpy \n",
    "a = np.array([1, 2, 3, 4])\n",
    "b = np.array([2, 3, 4, 5])\n",
    "\n",
    "# Now lets call our function to test it, expecting the return to be 40\n",
    "dot_product(a, b)"
   ]
  },
  {
   "cell_type": "markdown",
   "metadata": {},
   "source": [
    "### 1.b"
   ]
  },
  {
   "cell_type": "markdown",
   "metadata": {},
   "source": [
    "Given a 1 X n array, write a function odd(a) to return elements of the array whose index are odd numbers, for example:\n",
    "\n",
    "a = np.array([1, 4, 7, 2, 7, 8, 5, 4, 9])<br>\n",
    "odd(a) = np.array([4, 2, 8, 4])"
   ]
  },
  {
   "cell_type": "markdown",
   "metadata": {},
   "source": [
    "### Answer"
   ]
  },
  {
   "cell_type": "code",
   "execution_count": 27,
   "metadata": {
    "collapsed": true
   },
   "outputs": [],
   "source": [
    "def odd(a):\n",
    "    \n",
    "    # Get all the indices of a from 0 to n using np.arange \n",
    "    index = np.arange(len(a))\n",
    "    \n",
    "    # Eliminate all the pair indices of a using the modulo\n",
    "    index = index[index%2!=0]\n",
    "    \n",
    "    # Return all the elements of a with odd indices \n",
    "    return a[index]    "
   ]
  },
  {
   "cell_type": "markdown",
   "metadata": {},
   "source": [
    "### Test"
   ]
  },
  {
   "cell_type": "code",
   "execution_count": 28,
   "metadata": {},
   "outputs": [
    {
     "data": {
      "text/plain": [
       "array([4, 2, 8, 4])"
      ]
     },
     "execution_count": 28,
     "metadata": {},
     "output_type": "execute_result"
    }
   ],
   "source": [
    "# Create an array using numpy \n",
    "a = np.array([1, 4, 7, 2, 7, 8, 5, 4, 9])\n",
    "\n",
    "# Now lets call our function to test it, expecting the return to be array([4, 2, 8, 4])\n",
    "odd(a)"
   ]
  },
  {
   "cell_type": "markdown",
   "metadata": {},
   "source": [
    "### Problem 2"
   ]
  },
  {
   "cell_type": "markdown",
   "metadata": {},
   "source": [
    "For 2.a - 2.d, you should construct the arrays without listing the elements, for example: you should use np.ones(3) to get array([1, 1, 1]) instead of using np.array([1, 1, 1])"
   ]
  },
  {
   "cell_type": "markdown",
   "metadata": {},
   "source": [
    "### 2.a"
   ]
  },
  {
   "cell_type": "markdown",
   "metadata": {},
   "source": [
    "Create an array of floats from 0 - 10, for example:\n",
    "\n",
    "array[(0., 1., 2., 3., 4., 5., 6., 7., 8., 9., 10.)]"
   ]
  },
  {
   "cell_type": "markdown",
   "metadata": {},
   "source": [
    "### Answer"
   ]
  },
  {
   "cell_type": "code",
   "execution_count": 30,
   "metadata": {},
   "outputs": [
    {
     "data": {
      "text/plain": [
       "array([ 0.,  1.,  2.,  3.,  4.,  5.,  6.,  7.,  8.,  9., 10.])"
      ]
     },
     "execution_count": 30,
     "metadata": {},
     "output_type": "execute_result"
    }
   ],
   "source": [
    "np.arange(11.)"
   ]
  },
  {
   "cell_type": "markdown",
   "metadata": {},
   "source": [
    "### 2.b"
   ]
  },
  {
   "cell_type": "markdown",
   "metadata": {},
   "source": [
    "Create an array containing seven equally spaced numbers between 0 and 23"
   ]
  },
  {
   "cell_type": "markdown",
   "metadata": {},
   "source": [
    "### Answer"
   ]
  },
  {
   "cell_type": "code",
   "execution_count": 31,
   "metadata": {},
   "outputs": [
    {
     "data": {
      "text/plain": [
       "array([ 0.        ,  3.83333333,  7.66666667, 11.5       , 15.33333333,\n",
       "       19.16666667, 23.        ])"
      ]
     },
     "execution_count": 31,
     "metadata": {},
     "output_type": "execute_result"
    }
   ],
   "source": [
    "np.linspace(0, 23, 7)"
   ]
  },
  {
   "cell_type": "markdown",
   "metadata": {},
   "source": [
    "### 2.c"
   ]
  },
  {
   "cell_type": "markdown",
   "metadata": {},
   "source": [
    "Create a 3 X 3 matrix with values ranging from 0 to 8"
   ]
  },
  {
   "cell_type": "markdown",
   "metadata": {},
   "source": [
    "### Answer\n"
   ]
  },
  {
   "cell_type": "code",
   "execution_count": 65,
   "metadata": {},
   "outputs": [
    {
     "name": "stdout",
     "output_type": "stream",
     "text": [
      "[0 1 2 3 4 5 6 7 8]\n",
      "**************************************************\n",
      "[[0 1 2]\n",
      " [3 4 5]\n",
      " [6 7 8]]\n"
     ]
    }
   ],
   "source": [
    "# First lets make an array of the numbers ranging from 0 to 8\n",
    "array = np.arange(0, 9)\n",
    "\n",
    "# Lets see it\n",
    "print(array)\n",
    "\n",
    "# Print some stars to separate\n",
    "print('*'*50)\n",
    "\n",
    "# Now lets reshape this array to become a 3 X 3 Matrix\n",
    "matrix = array.reshape(3, 3)\n",
    "\n",
    "# Lets see it\n",
    "print(matrix)"
   ]
  },
  {
   "cell_type": "markdown",
   "metadata": {},
   "source": [
    "### 2.d"
   ]
  },
  {
   "cell_type": "markdown",
   "metadata": {},
   "source": [
    "Create a 5 X 5 matrix with row values ranging from 0 to 4"
   ]
  },
  {
   "cell_type": "markdown",
   "metadata": {},
   "source": [
    "### Answer"
   ]
  },
  {
   "cell_type": "code",
   "execution_count": 69,
   "metadata": {},
   "outputs": [
    {
     "name": "stdout",
     "output_type": "stream",
     "text": [
      "[[0 0 0 0 0]\n",
      " [0 0 0 0 0]\n",
      " [0 0 0 0 0]\n",
      " [0 0 0 0 0]\n",
      " [0 0 0 0 0]]\n",
      "**************************************************\n",
      "[[0 1 2 3 4]\n",
      " [0 1 2 3 4]\n",
      " [0 1 2 3 4]\n",
      " [0 1 2 3 4]\n",
      " [0 1 2 3 4]]\n"
     ]
    }
   ],
   "source": [
    "# Lets start by making a 5 X 5 matrix of zeros, make sure we change the data type of all elements to integer\n",
    "matrix = np.zeros([5, 5], dtype = np.int) \n",
    "\n",
    "# Lets see it\n",
    "print(matrix)\n",
    "\n",
    "# Print some stars to separate\n",
    "print('*'*50)\n",
    "\n",
    "# Now lets add an array of values from 0 to 4 to each one of the rows of the matrix\n",
    "matrix = matrix + np.arange(0, 5)\n",
    "\n",
    "# Lets see it\n",
    "print(matrix)"
   ]
  },
  {
   "cell_type": "markdown",
   "metadata": {},
   "source": [
    "### 2.e"
   ]
  },
  {
   "cell_type": "markdown",
   "metadata": {},
   "source": [
    "A magic square is a matrix all of whose row sums, column sums and the sums of the two diagonals are the same. (One diagonal of a matrix goes from the top left to the bottom right, the other diagonal goes from top right to bottom left.)\n",
    "\n",
    "A $n * n$ magic matrix is constructed by $(1, 2, 3... n^2)$, for example, here is a 3 X 3 magic matrix.\n",
    "\n",
    "$\\left[\n",
    "\\begin{array}{cc}\n",
    "8 & 1 & 6 \\\\\n",
    "3 & 5 & 7 \\\\\n",
    "4 & 9 & 2\n",
    "\\end{array}\n",
    "\\right]$\n",
    "\n",
    "Each number can only be used once.\n",
    "\n",
    "Write a function IsMagic(x) to check whether a matrix is a magic matrix. You should check these three properties:\n",
    "\n",
    "First, is it a square matrix?<br>\n",
    "Second, is it constructed by $(1, 2, 3, ... n^2)$?<br>\n",
    "Third, are the sums of rows, columns and diags the same? (Hint: the function **np.diag** may be useful)"
   ]
  },
  {
   "cell_type": "markdown",
   "metadata": {},
   "source": [
    "### Answer"
   ]
  },
  {
   "cell_type": "code",
   "execution_count": 128,
   "metadata": {
    "collapsed": true
   },
   "outputs": [],
   "source": [
    "def IsMagic(x):\n",
    "    \n",
    "    # Lets start by checking if the matrix is a square by checking\n",
    "    # if the number of columns is the same as the number of rows\n",
    "    row = x.shape[0]\n",
    "    col = x.shape[1]\n",
    "    if row != col:\n",
    "        return 'NOT MAGIC, NOT EVEN A SQUARE'\n",
    "    \n",
    "    # Okay now lets check if it consists of (1,2,3,...n2) by comparing it \n",
    "    # to an aranged version of the number of values of the matrix. \n",
    "    \n",
    "    # Lets start by converting our matrix into an array\n",
    "    arr = x.reshape(row * col)\n",
    "    \n",
    "    # Now lets use set to arrange our values and delete repeter ones then compare it to \n",
    "    # an array of values 0 to n^2\n",
    "    if set(arr) != set(np.arange(1, row*col+1)):\n",
    "        return 'NOT MAGIC, SOME NUMBERS ARE REPEATED ;/'\n",
    "    \n",
    "    # Okay lets see if all rows, columns and diagonals add up to the same\n",
    "    # Get sum of all columns\n",
    "    colsum = np.sum(x, 0)\n",
    "    \n",
    "    # Get sum of all rows\n",
    "    rowsum = np.sum(x, 1)\n",
    "    \n",
    "    # Get sum of one diagonal\n",
    "    diagsum = np.sum(np.diag(x))\n",
    "    \n",
    "    # Get sum of other diagonal\n",
    "    diagsum2 = np.sum(np.diag(x[:, ::-1]))\n",
    "    \n",
    "    # Now that we have all sums lets see if they are all the same\n",
    "    if all(colsum == diagsum) and all(rowsum == diagsum) and diagsum == diagsum2:\n",
    "        return 'YES!! ITS MAGICAL'\n",
    "    else:\n",
    "        return 'NOT MAGIC, THE SUMS ARE NOT ALL THE SAME ;/'\n",
    "    "
   ]
  },
  {
   "cell_type": "markdown",
   "metadata": {},
   "source": [
    "### Test"
   ]
  },
  {
   "cell_type": "code",
   "execution_count": 141,
   "metadata": {},
   "outputs": [
    {
     "data": {
      "text/plain": [
       "'NOT MAGIC, SOME NUMBERS ARE REPEATED ;/'"
      ]
     },
     "execution_count": 141,
     "metadata": {},
     "output_type": "execute_result"
    }
   ],
   "source": [
    "test1 = np.array([[0, 1], \n",
    "                  [1, 0]])\n",
    "\n",
    "# This should be False\n",
    "IsMagic(test1) "
   ]
  },
  {
   "cell_type": "code",
   "execution_count": 146,
   "metadata": {},
   "outputs": [
    {
     "data": {
      "text/plain": [
       "'YES!! ITS MAGICAL'"
      ]
     },
     "execution_count": 146,
     "metadata": {},
     "output_type": "execute_result"
    }
   ],
   "source": [
    "test2 = np.array([[8, 1, 6],\n",
    "                  [3, 5, 7],\n",
    "                  [4, 9, 2]])\n",
    "\n",
    "# This should be True\n",
    "IsMagic(test2)"
   ]
  },
  {
   "cell_type": "code",
   "execution_count": 142,
   "metadata": {},
   "outputs": [
    {
     "data": {
      "text/plain": [
       "'NOT MAGIC, NOT EVEN A SQUARE'"
      ]
     },
     "execution_count": 142,
     "metadata": {},
     "output_type": "execute_result"
    }
   ],
   "source": [
    "test22 = np.array([[8, 1, 6],\n",
    "                  [3, 5, 7]])\n",
    "\n",
    "# This should be False\n",
    "IsMagic(test22)"
   ]
  },
  {
   "cell_type": "code",
   "execution_count": 140,
   "metadata": {},
   "outputs": [
    {
     "data": {
      "text/plain": [
       "'NOT MAGIC, THE SUMS ARE NOT ALL THE SAME ;/'"
      ]
     },
     "execution_count": 140,
     "metadata": {},
     "output_type": "execute_result"
    }
   ],
   "source": [
    "test3 = np.array([[2, 6, 7],\n",
    "                  [4, 8, 3],\n",
    "                  [9, 1, 5]])\n",
    "\n",
    "# This should be False\n",
    "IsMagic(test3)"
   ]
  },
  {
   "cell_type": "code",
   "execution_count": 145,
   "metadata": {},
   "outputs": [
    {
     "data": {
      "text/plain": [
       "'YES!! ITS MAGICAL'"
      ]
     },
     "execution_count": 145,
     "metadata": {},
     "output_type": "execute_result"
    }
   ],
   "source": [
    "test4 = np.array([[16, 2, 3, 13],\n",
    "                  [5, 11, 10, 8],\n",
    "                  [9,  7, 6, 12],\n",
    "                  [4, 14, 15, 1]]) \n",
    "\n",
    "# This should be True\n",
    "IsMagic(test4)"
   ]
  },
  {
   "cell_type": "code",
   "execution_count": 144,
   "metadata": {},
   "outputs": [
    {
     "data": {
      "text/plain": [
       "'YES!! ITS MAGICAL'"
      ]
     },
     "execution_count": 144,
     "metadata": {},
     "output_type": "execute_result"
    }
   ],
   "source": [
    "test5 = np.array([[17, 24,  1,  8, 15],\n",
    "                  [23,  5,  7, 14, 16],\n",
    "                  [4,   6, 13, 20, 22],\n",
    "                  [10, 12, 19, 21,  3],\n",
    "                  [11, 18, 25, 2,   9]])\n",
    "\n",
    "# This should be True\n",
    "IsMagic(test5)"
   ]
  },
  {
   "cell_type": "code",
   "execution_count": 143,
   "metadata": {},
   "outputs": [
    {
     "data": {
      "text/plain": [
       "'YES!! ITS MAGICAL'"
      ]
     },
     "execution_count": 143,
     "metadata": {},
     "output_type": "execute_result"
    }
   ],
   "source": [
    "test6 = np.array([[35, 1, 6, 26, 19, 24],\n",
    "                  [3, 32, 7, 21, 23, 25],\n",
    "                  [31, 9, 2, 22, 27, 20],\n",
    "                  [8, 28, 33, 17, 10,15],\n",
    "                  [30, 5, 34, 12, 14,16],\n",
    "                  [4, 36, 29, 13, 18,11]])\n",
    "\n",
    "# This should be True\n",
    "IsMagic(test6)"
   ]
  }
 ],
 "metadata": {
  "kernelspec": {
   "display_name": "Python 3",
   "language": "python",
   "name": "python3"
  },
  "language_info": {
   "codemirror_mode": {
    "name": "ipython",
    "version": 3
   },
   "file_extension": ".py",
   "mimetype": "text/x-python",
   "name": "python",
   "nbconvert_exporter": "python",
   "pygments_lexer": "ipython3",
   "version": "3.6.3"
  }
 },
 "nbformat": 4,
 "nbformat_minor": 2
}
